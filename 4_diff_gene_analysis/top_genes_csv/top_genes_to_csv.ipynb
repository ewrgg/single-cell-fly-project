{
 "cells": [
  {
   "cell_type": "code",
   "execution_count": 4,
   "metadata": {},
   "outputs": [],
   "source": [
    "import scanpy as sc\n",
    "import anndata as ad\n",
    "import numpy as np\n",
    "import pandas as pd"
   ]
  },
  {
   "cell_type": "code",
   "execution_count": 5,
   "metadata": {},
   "outputs": [],
   "source": [
    "data = sc.read(\"../../4_diff_gene_analysis/diff_gene_data.h5ad\")"
   ]
  },
  {
   "cell_type": "code",
   "execution_count": 6,
   "metadata": {},
   "outputs": [],
   "source": [
    "groups = data.obs[\"leiden\"].unique()\n",
    "\n",
    "top_genes = []\n",
    "\n",
    "for group in groups:\n",
    "    #want dataframe\n",
    "    df = sc.get.rank_genes_groups_df(data, group)\n",
    "\n",
    "    top_genes_group = df[\"names\"].head(200).tolist() #top 200 to compare later to another databae\n",
    "    \n",
    "    top_genes.append(top_genes_group)\n",
    "\n",
    "    df.to_csv(f\"../../4_diff_gene_analysis/top_genes_csv/group_{group}_top_genes.csv\", index=False)"
   ]
  }
 ],
 "metadata": {
  "kernelspec": {
   "display_name": "ada",
   "language": "python",
   "name": "python3"
  },
  "language_info": {
   "codemirror_mode": {
    "name": "ipython",
    "version": 3
   },
   "file_extension": ".py",
   "mimetype": "text/x-python",
   "name": "python",
   "nbconvert_exporter": "python",
   "pygments_lexer": "ipython3",
   "version": "3.13.1"
  }
 },
 "nbformat": 4,
 "nbformat_minor": 2
}
