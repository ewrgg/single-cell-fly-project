{
 "cells": [
  {
   "cell_type": "markdown",
   "metadata": {},
   "source": [
    "### This notebook is important as we use a tool to look up the cell types!"
   ]
  },
  {
   "cell_type": "code",
   "execution_count": 1,
   "metadata": {},
   "outputs": [],
   "source": [
    "import numpy as np\n",
    "import scanpy as sc"
   ]
  },
  {
   "cell_type": "code",
   "execution_count": 2,
   "metadata": {},
   "outputs": [],
   "source": [
    "data = sc.read(\"../4_diff_gene_analysis/diff_gene_data.h5ad\")"
   ]
  },
  {
   "cell_type": "code",
   "execution_count": 3,
   "metadata": {},
   "outputs": [],
   "source": [
    "top_genes_per_group = {}\n",
    "with open(\"../4_diff_gene_analysis/top_genes_txt/top_marker_genes.txt\", \"w\") as f:\n",
    "    for group in data.obs['leiden'].cat.categories:\n",
    "        top_genes = data.uns['rank_genes_groups']['names'][group][:100]  # Top 100 genes\n",
    "        top_genes_per_group[group] = top_genes\n",
    "\n",
    "        # Write to file\n",
    "        f.write(f\"Cluster {group}:\\n\")\n",
    "        f.write(\"\\n\".join(top_genes) + \"\\n\\n\")"
   ]
  },
  {
   "cell_type": "markdown",
   "metadata": {},
   "source": [
    "https://www.flyrnai.org/tools/single_cell/web/enrichment\n",
    "We used this website to lookup the cell types based on marker genes.\n",
    "\n",
    "Cluster 0: Lower tubule PC 93% overlap <br>\n",
    "Cluster 1: Principle Cell 99% overlap <br>\n",
    "Cluster 2: Tubule bar shaped cell of initial segment 79% overlap <br>\n",
    "Cluster 3: Stellate 84% overlap <br>\n",
    "Cluster 4: Initial/transitional PC 67% overlap <br>\n",
    "Cluster 5: Main segment PC 58% overlap <br>\n",
    "Cluster 6: Adult Renal Stem Cell 81% overlap <br>\n",
    "Cluster 7: unidentified 79% overlap <br>\n",
    "Cluster 8: Lower tubule PC 61% overlap <br>\n",
    "Cluster 9: Tracheal cell 57% overlap <br>\n",
    "Cluster 10: Principle cell of lower ureter 34%; posterior midgut 39% overlap <br>\n",
    "Cluster 11: Adult fat body 29% overlap <br>\n",
    "\n",
    "We see that most of our clusters have different defined cell types (except for 0 and 8, further evidence that they should be grouped). Cluster 7 shows an unidentified cell type, and cluster 9 surprisingly shows tracheal cells, which is strange since those kinds of cells shouldn't appear in the tubules."
   ]
  }
 ],
 "metadata": {
  "kernelspec": {
   "display_name": "ada",
   "language": "python",
   "name": "python3"
  },
  "language_info": {
   "codemirror_mode": {
    "name": "ipython",
    "version": 3
   },
   "file_extension": ".py",
   "mimetype": "text/x-python",
   "name": "python",
   "nbconvert_exporter": "python",
   "pygments_lexer": "ipython3",
   "version": "3.13.1"
  }
 },
 "nbformat": 4,
 "nbformat_minor": 2
}
