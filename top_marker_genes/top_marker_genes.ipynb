{
 "cells": [
  {
   "cell_type": "code",
   "execution_count": 4,
   "metadata": {},
   "outputs": [],
   "source": [
    "import numpy as np\n",
    "import scanpy as sc"
   ]
  },
  {
   "cell_type": "code",
   "execution_count": 5,
   "metadata": {},
   "outputs": [],
   "source": [
    "data = sc.read(\"processed_data.h5ad\")"
   ]
  },
  {
   "cell_type": "code",
   "execution_count": 6,
   "metadata": {},
   "outputs": [
    {
     "name": "stdout",
     "output_type": "stream",
     "text": [
      "Top marker genes saved to top_marker_genes/top_marker_genes.txt\n"
     ]
    }
   ],
   "source": [
    "# Define output file\n",
    "output_file = \"top_marker_genes/top_marker_genes.txt\"\n",
    "\n",
    "# Extract top genes for each Leiden cluster\n",
    "top_genes_per_group = {}\n",
    "with open(output_file, \"w\") as f:\n",
    "    for group in data.obs['leiden'].cat.categories:\n",
    "        top_genes = data.uns['rank_genes_groups']['names'][group][:100]  # Top 10 genes\n",
    "        top_genes_per_group[group] = top_genes\n",
    "\n",
    "        # Write to file\n",
    "        f.write(f\"Cluster {group}:\\n\")\n",
    "        f.write(\"\\n\".join(top_genes) + \"\\n\\n\")\n",
    "\n",
    "print(f\"Top marker genes saved to {output_file}\")\n"
   ]
  },
  {
   "cell_type": "markdown",
   "metadata": {},
   "source": [
    "Cluster 0: Lower tubule PC 93% overlap \n",
    "Cluster 1: Principle Cell 99% overlap\n",
    "Cluster 2: Tubule bar shaped cell of initial segment 79% overlap\n",
    "Cluster 3: Stellate 84% overlap\n",
    "Cluster 4: Initial/transitional PC 67% overlap\n",
    "Cluster 5: Main segment PC 58% overlap\n",
    "Cluster 6: Adult Renal Stem Cell 81% overlap\n",
    "Cluster 7: unidentified 79% overlap\n",
    "Cluster 8: Lower tubule PC 61% overlap\n",
    "Cluster 9: Tracheal cell 57% overlap\n",
    "Cluster 10: Principle cell of lower ureter 34%; posterior midgut 39% overlap"
   ]
  }
 ],
 "metadata": {
  "kernelspec": {
   "display_name": "ada",
   "language": "python",
   "name": "python3"
  },
  "language_info": {
   "codemirror_mode": {
    "name": "ipython",
    "version": 3
   },
   "file_extension": ".py",
   "mimetype": "text/x-python",
   "name": "python",
   "nbconvert_exporter": "python",
   "pygments_lexer": "ipython3",
   "version": "3.13.1"
  }
 },
 "nbformat": 4,
 "nbformat_minor": 2
}
